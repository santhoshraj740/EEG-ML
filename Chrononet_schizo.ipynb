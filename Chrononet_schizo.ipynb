{
 "cells": [
  {
   "cell_type": "code",
   "execution_count": 1,
   "id": "fb1f1f18-9a94-406d-9550-a19070b35b00",
   "metadata": {},
   "outputs": [
    {
     "data": {
      "text/plain": [
       "torch.Size([3, 22, 15000])"
      ]
     },
     "execution_count": 1,
     "metadata": {},
     "output_type": "execute_result"
    }
   ],
   "source": [
    "import torch.nn as nn\n",
    "import torch \n",
    "input = torch.randn(3,22,15000)\n",
    "input.shape"
   ]
  },
  {
   "cell_type": "code",
   "execution_count": 2,
   "id": "39e5ac6f-ec37-4429-91fe-43351a2afa53",
   "metadata": {},
   "outputs": [
    {
     "data": {
      "text/plain": [
       "Conv1d(22, 32, kernel_size=(2,), stride=(2,))"
      ]
     },
     "execution_count": 2,
     "metadata": {},
     "output_type": "execute_result"
    }
   ],
   "source": [
    "nn.Conv1d(in_channels=22,out_channels=32,stride=2,kernel_size=2,padding=0)"
   ]
  },
  {
   "cell_type": "code",
   "execution_count": 3,
   "id": "2e71331d-912a-4a65-951e-faccd5d48d19",
   "metadata": {},
   "outputs": [],
   "source": [
    "class Block(nn.Module):\n",
    "    def __init__(self,inplace):\n",
    "        super().__init__()\n",
    "        self.conv1=nn.Conv1d(in_channels=inplace,out_channels=32,stride=2,kernel_size=2,padding=0)\n",
    "        self.conv2=nn.Conv1d(in_channels=inplace,out_channels=32,stride=2,kernel_size=4,padding=1)\n",
    "        self.conv3=nn.Conv1d(in_channels=inplace,out_channels=32,stride=2,kernel_size=8,padding=3)\n",
    "        self.relu=nn.ReLU()\n",
    "    def forward(self,x):\n",
    "        x1 = self.conv1(x)\n",
    "        x2 = self.conv2(x)\n",
    "        x3 = self.conv3(x)\n",
    "        x= torch.cat([x1,x2,x3],dim=1)\n",
    "        return x\n",
    "    "
   ]
  },
  {
   "cell_type": "code",
   "execution_count": 4,
   "id": "5455c28b-7bc2-4077-b43e-28846006f9f8",
   "metadata": {},
   "outputs": [
    {
     "data": {
      "text/plain": [
       "torch.Size([3, 96, 7500])"
      ]
     },
     "execution_count": 4,
     "metadata": {},
     "output_type": "execute_result"
    }
   ],
   "source": [
    "block=Block(22)\n",
    "out1=block(input)\n",
    "out1.shape"
   ]
  },
  {
   "cell_type": "code",
   "execution_count": 5,
   "id": "03db5d6a-0975-4fe5-8b8e-7a438813ebb9",
   "metadata": {},
   "outputs": [
    {
     "data": {
      "text/plain": [
       "torch.Size([3, 96, 3750])"
      ]
     },
     "execution_count": 5,
     "metadata": {},
     "output_type": "execute_result"
    }
   ],
   "source": [
    "block=Block(96)\n",
    "out2=block(out1)\n",
    "out2.shape"
   ]
  },
  {
   "cell_type": "code",
   "execution_count": 6,
   "id": "b69e2dce-b30b-476d-a146-8903ee04b8c1",
   "metadata": {},
   "outputs": [
    {
     "data": {
      "text/plain": [
       "torch.Size([3, 96, 1875])"
      ]
     },
     "execution_count": 6,
     "metadata": {},
     "output_type": "execute_result"
    }
   ],
   "source": [
    "block=Block(96)\n",
    "out3=block(out2)\n",
    "out3.shape"
   ]
  },
  {
   "cell_type": "code",
   "execution_count": 7,
   "id": "a2b2d465-2cd4-481e-9e8e-d7075423c1b6",
   "metadata": {},
   "outputs": [
    {
     "name": "stdout",
     "output_type": "stream",
     "text": [
      "torch.Size([3, 1875, 96])\n",
      "torch.Size([3, 1875, 32])\n"
     ]
    }
   ],
   "source": [
    "gru = nn.GRU(input_size=96,hidden_size=32,batch_first=True) #multilayer gated recurrent unit\n",
    "x = out3.permute(0,2,1) #(N,L,H) when batch_first=True where N-batchsize L-sequence length and H-input\n",
    "print(x.shape)\n",
    "output,hn= gru(x)\n",
    "print(output.shape)"
   ]
  },
  {
   "cell_type": "code",
   "execution_count": 8,
   "id": "57b5af6b-4dfe-401c-962d-6e2d5164e666",
   "metadata": {},
   "outputs": [
    {
     "name": "stdout",
     "output_type": "stream",
     "text": [
      "torch.Size([1, 3, 32])\n"
     ]
    }
   ],
   "source": [
    "print(hn.shape)"
   ]
  },
  {
   "cell_type": "code",
   "execution_count": 9,
   "id": "bedd49e5-0a52-451f-90c9-14c6c912fcff",
   "metadata": {},
   "outputs": [],
   "source": [
    "gru1=nn.GRU(input_size=96,hidden_size=32,batch_first=True)\n",
    "gru2=nn.GRU(input_size=32,hidden_size=32,batch_first=True)\n",
    "gru1_out, _= gru1(x)\n",
    "gru2_out,_= gru2(gru1_out)\n",
    "gru_out = torch.cat([gru1_out,gru2_out],dim=2)"
   ]
  },
  {
   "cell_type": "code",
   "execution_count": 10,
   "id": "76394439-0789-40b9-9899-12565d07ec1c",
   "metadata": {},
   "outputs": [],
   "source": [
    "gru3=nn.GRU(input_size=64,hidden_size=32,batch_first=True)\n",
    "gru3_out,_= gru3(gru_out)"
   ]
  },
  {
   "cell_type": "code",
   "execution_count": 11,
   "id": "819395e5-57d6-4d97-8fb5-28cfa33d9713",
   "metadata": {},
   "outputs": [],
   "source": [
    "gru_out = torch.cat([gru1_out,gru2_out,gru3_out],dim=2)"
   ]
  },
  {
   "cell_type": "code",
   "execution_count": 12,
   "id": "c5b68b3c-b5f7-4f07-904d-a3a799e13c73",
   "metadata": {},
   "outputs": [
    {
     "data": {
      "text/plain": [
       "torch.Size([3, 1875, 96])"
      ]
     },
     "execution_count": 12,
     "metadata": {},
     "output_type": "execute_result"
    }
   ],
   "source": [
    "gru_out.shape"
   ]
  },
  {
   "cell_type": "code",
   "execution_count": 13,
   "id": "299f9704-e366-49a9-9c68-0ee0b8c336da",
   "metadata": {},
   "outputs": [
    {
     "data": {
      "text/plain": [
       "torch.Size([3, 1875, 32])"
      ]
     },
     "execution_count": 13,
     "metadata": {},
     "output_type": "execute_result"
    }
   ],
   "source": [
    "gru4=nn.GRU(input_size=96,hidden_size=32,batch_first=True)\n",
    "gru4_out,_= gru4(gru_out)\n",
    "gru4_out.shape"
   ]
  },
  {
   "cell_type": "code",
   "execution_count": 14,
   "id": "726b4e01-2859-44b0-89a3-fd5b885fac4b",
   "metadata": {},
   "outputs": [
    {
     "data": {
      "text/plain": [
       "torch.Size([3, 96, 1])"
      ]
     },
     "execution_count": 14,
     "metadata": {},
     "output_type": "execute_result"
    }
   ],
   "source": [
    "linear = nn.Linear(1875,1)\n",
    "linear_out = linear(gru_out.permute(0,2,1))\n",
    "linear_out.shape"
   ]
  },
  {
   "cell_type": "code",
   "execution_count": 15,
   "id": "73e41839-db9b-4ca1-b6b4-ba49bcfad58d",
   "metadata": {},
   "outputs": [
    {
     "data": {
      "text/plain": [
       "torch.Size([3, 1, 32])"
      ]
     },
     "execution_count": 15,
     "metadata": {},
     "output_type": "execute_result"
    }
   ],
   "source": [
    "gru4=nn.GRU(input_size=96,hidden_size=32,batch_first=True)\n",
    "gru4_out, hn = gru4(linear_out.permute(0,2,1))\n",
    "gru4_out.shape"
   ]
  },
  {
   "cell_type": "code",
   "execution_count": 16,
   "id": "ed128536-5362-4e3e-8c62-c2bd7da7b5df",
   "metadata": {},
   "outputs": [
    {
     "data": {
      "text/plain": [
       "torch.Size([1, 3, 32])"
      ]
     },
     "execution_count": 16,
     "metadata": {},
     "output_type": "execute_result"
    }
   ],
   "source": [
    "hn.shape"
   ]
  },
  {
   "cell_type": "code",
   "execution_count": 38,
   "id": "268c9adb-9947-451d-bc25-bc1215738d61",
   "metadata": {},
   "outputs": [],
   "source": [
    "class Chrononet(nn.Module):\n",
    "    def __init__(self):\n",
    "        super().__init__()\n",
    "        self.block1= Block(22)\n",
    "        self.block2= Block(96)\n",
    "        self.block3= Block(96)\n",
    "        self.gru1=nn.GRU(input_size=96,hidden_size=32,batch_first=True)\n",
    "        self.gru2=nn.GRU(input_size=32,hidden_size=32,batch_first=True)\n",
    "        self.gru3=nn.GRU(input_size=64,hidden_size=32,batch_first=True)\n",
    "        self.gru4=nn.GRU(input_size=96,hidden_size=32,batch_first=True)\n",
    "        self.gru_linear= nn.Linear(1875,1)\n",
    "        self.flatten = nn.Flatten()\n",
    "        self.fcl= nn.Linear(32,1)\n",
    "        self.relu = nn.ReLU()\n",
    "    def forward(self,x):\n",
    "        x=self.block1(x)\n",
    "        x=self.block2(x)\n",
    "        x=self.block3(x)\n",
    "        x=x.permute(0,2,1)\n",
    "        gru1_out, _= self.gru1(x)\n",
    "        gru2_out, _= self.gru2(gru1_out)\n",
    "        gru_out = torch.cat([gru1_out,gru2_out], dim=2)\n",
    "        gru3_out, _= self.gru3(gru_out)\n",
    "        gru_out = torch.cat([gru1_out,gru2_out,gru3_out], dim=2)\n",
    "\n",
    "        linear_out = self.relu(self.gru_linear(gru_out.permute(0,2,1)))\n",
    "        gru4_out, _= self.gru4(linear_out.permute(0,2,1))\n",
    "        x=self.flatten(gru4_out)\n",
    "        x = self.fcl(x)\n",
    "        return x         "
   ]
  },
  {
   "cell_type": "code",
   "execution_count": 40,
   "id": "d7bde7d7-f08e-44b3-b04c-d5014ae1c4e5",
   "metadata": {},
   "outputs": [],
   "source": [
    "model= Chrononet()\n",
    "output = model(input)"
   ]
  },
  {
   "cell_type": "code",
   "execution_count": null,
   "id": "62ba5ce2-d606-4caa-bfaa-4eb75adc2aaf",
   "metadata": {},
   "outputs": [],
   "source": [
    "from glob import glob \n",
    "TDD = \n",
    "TDC ="
   ]
  }
 ],
 "metadata": {
  "kernelspec": {
   "display_name": "Python [conda env:base] *",
   "language": "python",
   "name": "conda-base-py"
  },
  "language_info": {
   "codemirror_mode": {
    "name": "ipython",
    "version": 3
   },
   "file_extension": ".py",
   "mimetype": "text/x-python",
   "name": "python",
   "nbconvert_exporter": "python",
   "pygments_lexer": "ipython3",
   "version": "3.12.7"
  }
 },
 "nbformat": 4,
 "nbformat_minor": 5
}
